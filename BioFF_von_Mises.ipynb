{
 "cells": [
  {
   "cell_type": "markdown",
   "id": "57cfc470-c108-433b-b6f0-cb5cf0874e22",
   "metadata": {},
   "source": [
    "Copyright (c) 2021 Juergen Koefinger, Max Planck Institute of Biophysics, Frankfurt am Main, Germany"
   ]
  },
  {
   "cell_type": "markdown",
   "id": "e6e7912d-281b-4c66-85e6-4f12273dbcfc",
   "metadata": {},
   "source": [
    "# Requirements"
   ]
  },
  {
   "cell_type": "markdown",
   "id": "e5a54d88-62da-4774-9eb5-70510c715e13",
   "metadata": {},
   "source": [
    "**To run the notebook**, you have to install the BioEn software for efficient ensemble refinement by reweighting (https://github.com/bio-phys/bioen) and binless WHAM (https://github.com/bio-phys/binless-wham)."
   ]
  },
  {
   "cell_type": "markdown",
   "id": "ab59c094-243d-4ba9-a029-6da067499fe7",
   "metadata": {},
   "source": [
    "# Preliminaries"
   ]
  },
  {
   "cell_type": "code",
   "execution_count": null,
   "id": "ea1cfd86-78f5-4cfd-81a0-9c7e572ad192",
   "metadata": {},
   "outputs": [],
   "source": [
    "import matplotlib.pyplot as plt\n",
    "from numba import jit\n",
    "import scipy.stats, copy, matplotlib\n",
    "from importlib import reload\n",
    "import numpy as np\n",
    "import binless_wham as WHAM\n",
    "import bioen \n",
    "from bioen.analyze import utils\n",
    "from bioen import optimize\n",
    "import polymer_model as pm\n",
    "import BioFF_von_Mises as bioff\n",
    "\n",
    "matplotlib.rc('xtick', labelsize=16) \n",
    "matplotlib.rc('ytick', labelsize=16) \n",
    "matplotlib.rc('axes', labelsize=16) "
   ]
  },
  {
   "cell_type": "code",
   "execution_count": null,
   "id": "048ffb63-1de5-4db5-866b-8490e09abc7b",
   "metadata": {},
   "outputs": [],
   "source": [
    "#%config Completer.use_jedi = False #activates TAB completion"
   ]
  },
  {
   "cell_type": "code",
   "execution_count": null,
   "id": "26c6d718-65a9-4713-81d1-bdd5248e7f2a",
   "metadata": {},
   "outputs": [],
   "source": [
    "img_path = \"./img/\" # Output path for plot. Generate it by hand.\n",
    "ipath = \"./data/\"  # Input path for reference simulation. Generate it by hand."
   ]
  },
  {
   "cell_type": "markdown",
   "id": "4bae4463-1214-4e39-a036-bc0fb5a02a17",
   "metadata": {},
   "source": [
    "# Initialization"
   ]
  },
  {
   "cell_type": "markdown",
   "id": "6d5e6589-640a-4cf4-8c66-193167c995a3",
   "metadata": {},
   "source": [
    "## Set the value of confidence parameter $\\theta$"
   ]
  },
  {
   "cell_type": "code",
   "execution_count": null,
   "id": "eee76b40-e125-4173-9568-847182322fa1",
   "metadata": {},
   "outputs": [],
   "source": [
    "theta = 1."
   ]
  },
  {
   "cell_type": "markdown",
   "id": "8066896b-0449-4b85-a66e-b921ed0db1cf",
   "metadata": {},
   "source": [
    "## Input"
   ]
  },
  {
   "cell_type": "code",
   "execution_count": null,
   "id": "cd2bb8ca-b4bc-46b8-84aa-03162d002fad",
   "metadata": {},
   "outputs": [],
   "source": [
    "idx_labels = (0, 49) # indices of bead pair which we use for label distance\n",
    "N_beads=100 # number of beads"
   ]
  },
  {
   "cell_type": "markdown",
   "id": "b8ccfd1a-bbf0-47b9-87c5-bf11670c7e24",
   "metadata": {},
   "source": [
    "### Read in synthetic data for experiment"
   ]
  },
  {
   "cell_type": "code",
   "execution_count": null,
   "id": "1be34e89-a7f8-4f05-98eb-42ca95219bac",
   "metadata": {},
   "outputs": [],
   "source": [
    "kappa_exp = 10 # experimental kappa value\n",
    "sample_info={}\n",
    "sample_info['n_run']=10000\n",
    "sample_info['n_sample']=-1  # legacy"
   ]
  },
  {
   "cell_type": "code",
   "execution_count": null,
   "id": "75771d3e-347b-4386-ac52-ec0306d598d7",
   "metadata": {},
   "outputs": [],
   "source": [
    "cfx_exp, phi_mat_exp, energies_exp, dists_exp, dists_stats_exp = pm.init_from_single_sim(kappa_exp, N_beads, 0, 0, sample_info, idx_labels, ipath, pref=\"vonMises_\")"
   ]
  },
  {
   "cell_type": "code",
   "execution_count": null,
   "id": "54a6d611-9c10-4691-924d-ee5a1b7d51d0",
   "metadata": {},
   "outputs": [],
   "source": [
    "exp={}\n",
    "exp['mean'] = dists_exp['label'][kappa_exp].mean()\n",
    "exp['stderr'] = 1 # error\n",
    "Y = np.matrix(exp['mean']) # measured ensemble average\n",
    "YTilde = Y/exp['stderr'] \n",
    "print(Y)"
   ]
  },
  {
   "cell_type": "markdown",
   "id": "e4ddd182-534e-45f0-8e41-fc3ab92c02cb",
   "metadata": {},
   "source": [
    "### Read in reference simulation"
   ]
  },
  {
   "cell_type": "code",
   "execution_count": null,
   "id": "a7295027-41e3-4ce3-abbe-8c43e86e9ab6",
   "metadata": {},
   "outputs": [],
   "source": [
    "kappa_ref = 20  # kappa of reference simulation\n",
    "N_beads=100\n",
    "sample_info={}\n",
    "sample_info['n_run']=10000\n",
    "sample_info['n_sample']=-1  # legacy "
   ]
  },
  {
   "cell_type": "code",
   "execution_count": null,
   "id": "89c1702e-7d7b-4f1c-9253-db02263d5e70",
   "metadata": {},
   "outputs": [],
   "source": [
    "ensemble_size = 4000"
   ]
  },
  {
   "cell_type": "code",
   "execution_count": null,
   "id": "22cb4361-fe62-409c-8734-e8d7a6879888",
   "metadata": {},
   "outputs": [],
   "source": [
    "cfx_dict, phi_mats, energies, dists, dists_stats = pm.init_from_single_sim(kappa_ref, N_beads, 0, 0, sample_info, idx_labels, ipath, pref=\"vonMises_\", N_configs=ensemble_size)"
   ]
  },
  {
   "cell_type": "code",
   "execution_count": null,
   "id": "38f07b4c-e3b9-4074-84fc-06bf9e23d94e",
   "metadata": {},
   "outputs": [],
   "source": [
    "ensemble_size = len(cfx_dict[kappa_ref])"
   ]
  },
  {
   "cell_type": "code",
   "execution_count": null,
   "id": "c88eb96d-03bf-49c2-8324-05b985329205",
   "metadata": {},
   "outputs": [],
   "source": [
    "print(\"ensemble size = \", ensemble_size)"
   ]
  },
  {
   "cell_type": "markdown",
   "id": "82b1aecb-f95d-47b9-aa8c-94ac7e99917c",
   "metadata": {},
   "source": [
    "## Generate sub-folder for output"
   ]
  },
  {
   "cell_type": "code",
   "execution_count": null,
   "id": "01b87600-2584-4eb7-82fd-038ee7971bd9",
   "metadata": {},
   "outputs": [],
   "source": [
    "# generate sub-directory for plots\n",
    "img_sub=\"/kappa_exp%3.1f_kappa_ref%3.1f/\" % (kappa_exp, kappa_ref )\n",
    "print(img_sub)\n",
    "import os\n",
    "try:\n",
    "    os.mkdir(img_path+\"/\"+img_sub)\n",
    "except:\n",
    "    print(\"Exists\")"
   ]
  },
  {
   "cell_type": "markdown",
   "id": "c73fd3f8-22b9-44c6-a2ff-b7e3d633509d",
   "metadata": {},
   "source": [
    "# BioFF-by-reweighting"
   ]
  },
  {
   "cell_type": "markdown",
   "id": "188dfb0b-934f-4a65-9a94-0a2f5df56100",
   "metadata": {},
   "source": [
    "## Initial optimization by reweighting"
   ]
  },
  {
   "cell_type": "code",
   "execution_count": null,
   "id": "79b4414f-705d-4010-9e88-4bf02f22a94f",
   "metadata": {},
   "outputs": [],
   "source": [
    "Y = dists_stats_exp['label'][kappa_exp]['mean'] # measured ensemble averaged observable\n",
    "print(\"Y = %4.3f\" % Y)\n",
    "stderr = 1\n",
    "YTilde = Y/stderr\n",
    "y = dists['label'][kappa_ref]\n",
    "N_config = len(y)\n",
    "yTilde = y/stderr"
   ]
  },
  {
   "cell_type": "code",
   "execution_count": null,
   "id": "90cd6c8d-5e75-4723-b9eb-4a0cf29319e4",
   "metadata": {},
   "outputs": [],
   "source": [
    "w0 = np.ones(N_config)/float(N_config)\n",
    "y_mean =  (w0*y).sum()\n",
    "print (\"y_mean = %4.3f\" % y_mean)"
   ]
  },
  {
   "cell_type": "markdown",
   "id": "d876d6a2-1f12-4c51-8e21-52a6d6f78870",
   "metadata": {},
   "source": [
    "### Optimize"
   ]
  },
  {
   "cell_type": "code",
   "execution_count": null,
   "id": "fa3726af-c234-4084-9801-105df056ddf7",
   "metadata": {},
   "outputs": [],
   "source": [
    "kappa_sims=list(phi_mats.keys())\n",
    "kappa_sims.sort()\n",
    "all_phi_mats = pm.hstack_dict(phi_mats, kappa_sims)\n",
    "all_u_refs = pm.von_Mises_energy(all_phi_mats, kappa_ref)"
   ]
  },
  {
   "cell_type": "code",
   "execution_count": null,
   "id": "a0d4fdfd-50a6-4a4c-8cb6-708c79779a62",
   "metadata": {},
   "outputs": [],
   "source": [
    "N_configs = len(all_u_refs)"
   ]
  },
  {
   "cell_type": "code",
   "execution_count": null,
   "id": "3831f21c-96e7-4b28-a1b9-673c9dc2bd16",
   "metadata": {},
   "outputs": [],
   "source": [
    "w0 =np.ones(N_configs)/float(N_configs)  # reference weights"
   ]
  },
  {
   "cell_type": "code",
   "execution_count": null,
   "id": "9f06746e-e36c-4157-a584-52a802341c74",
   "metadata": {},
   "outputs": [],
   "source": [
    "kappa_init = kappa_ref\n",
    "res = scipy.optimize.minimize(bioff.objective_function, kappa_init, args= (w0, all_phi_mats, yTilde, YTilde,  all_u_refs, theta), method=\"Nelder-Mead\")"
   ]
  },
  {
   "cell_type": "code",
   "execution_count": null,
   "id": "04c38b57-6fec-4adb-9793-cee40b338453",
   "metadata": {},
   "outputs": [],
   "source": [
    "kappa_new = res['x'][0] # optimal value for kappa from reference simulation alone"
   ]
  },
  {
   "cell_type": "markdown",
   "id": "075c5e53-cc86-4469-929c-e77f37debf7a",
   "metadata": {},
   "source": [
    "## Iterate until convergence"
   ]
  },
  {
   "cell_type": "code",
   "execution_count": null,
   "id": "05958b3e-0549-4807-a990-4034b39e0f40",
   "metadata": {},
   "outputs": [],
   "source": [
    "n_bins = 50 # number of histogram bins for plotting\n",
    "max_iterations = 10 # maximum number of BioFF iterations\n",
    "kappas_optimization = [kappa_ref, kappa_new] # list of iteratively optimized kappa values"
   ]
  },
  {
   "cell_type": "code",
   "execution_count": null,
   "id": "ef637849-3739-4c2f-9281-1549f7870468",
   "metadata": {},
   "outputs": [],
   "source": [
    "all_energies =  pm.hstack_dict(energies, kappa_sims)"
   ]
  },
  {
   "cell_type": "code",
   "execution_count": null,
   "id": "7b6dc924-5fdc-48b1-a6a3-d9fac825db74",
   "metadata": {
    "tags": []
   },
   "outputs": [],
   "source": [
    "all_u = pm.von_Mises_energy(all_phi_mats, kappa_new)\n",
    "w_new = bioff.reweighting(all_u, all_u_refs, w0)\n",
    "#w_predicted = bioff.von_Mises_weights(all_phi_mats, kappa_new,  all_u_refs, w0)\n",
    "kappa_old = kappa_new\n",
    "n_converged = 0 # Counter. Increased if two kappa values are within threshold.\n",
    "n_iterations = 0 # Counter. \n",
    "is_converged = False\n",
    "while is_converged == False and (n_iterations+1) <= max_iterations:\n",
    "    n_iterations += 1\n",
    "    print()\n",
    "    print(\"iteration %d\" % n_iterations)\n",
    "    \n",
    "    # plot energy distribution for BioFF-predicted value of kappa\n",
    "    plt.hist(all_energies, weights=w_new, density=True, bins=n_bins,  histtype='step', label=r\"$\\kappa = %4.3f$, predict.\" % kappa_new)\n",
    "    # run simulation for newly optimized kappa value and calculate distances and energies\n",
    "    configs_vonMises = pm.generate_vonMises_configs(ensemble_size, N_beads, kappa_new, mu=0)\n",
    "    cfx_dict[kappa_new]=configs_vonMises\n",
    "    phi_mats[kappa_new] = pm.get_phi_matrix(cfx_dict[kappa_new])\n",
    "    pm.update_energies(phi_mats, [kappa_new], energies)\n",
    "    pm.update_dists(cfx_dict, [kappa_new], idx_labels[0], idx_labels[1], 'label', dists)\n",
    "    pm.update_dists(cfx_dict, [kappa_new], 0, N_beads-1, 'e2e', dists)\n",
    "    pm.update_dist_stats(dists, [kappa_new], dists_stats)\n",
    "\n",
    "    kappa_sims = list(cfx_dict.keys())\n",
    "    kappa_sims.sort()\n",
    "    print(\"kappa_sims\", kappa_sims)\n",
    "    \n",
    "    # energies and distances for pool of simulations\n",
    "    all_energies =  pm.hstack_dict(energies, kappa_sims) \n",
    "    y = pm.hstack_dict(dists['label'], kappa_sims)\n",
    "    yTilde = y/stderr\n",
    "    all_phi_mats = pm.hstack_dict(phi_mats, kappa_sims)\n",
    "    all_u_refs = pm.von_Mises_energy(all_phi_mats, kappa_ref)\n",
    "    \n",
    "    \n",
    "    ####################\n",
    "    # plotting\n",
    "    for ik,k in enumerate(energies):\n",
    "        plt.hist(energies[k], density=True, bins=n_bins,  histtype='step', label=r\"$\\kappa_%d = %4.3f$\" % (ik,k), color=\"C%d\" % (ik+1))\n",
    "    plt.xlabel(\"Energy\")\n",
    "    plt.ylabel(\"pdf\")\n",
    "    plt.legend(fontsize=14, loc='center right', bbox_to_anchor=(1.75,0.5))\n",
    "    plt.show()\n",
    "    ####################\n",
    "    \n",
    "    # Perform WHAM for updated pool of simulations to obtaine reference ensemble\n",
    "    nj, n_struct = bioff.set_nj(cfx_dict)\n",
    "    print(\"n_struct =\", n_struct)\n",
    "    n_bias = len(kappa_sims)\n",
    "    wkj_new= bioff.get_wkj(nj, kappa_sims, phi_mats, kappa_ref)\n",
    "    w_wham_new, sig_wham_new, gj_new = WHAM.run_wham_bfgs_structure_weights(nj, wkj_new, norm_weights=True, beta = 1, Ij=np.ones(n_bias)*1, Ij_kinj = np.ones(n_struct))\n",
    "    w0=w_wham_new\n",
    "    all_u = pm.von_Mises_energy(all_phi_mats, kappa_new)\n",
    "    w_new = bioff.reweighting(all_u, all_u_refs, w0)\n",
    "    #w_new = bioff.von_Mises_weights(all_phi_mats, kappa_new, all_u_refs, w0)\n",
    "    \n",
    "    ####################\n",
    "    # plotting\n",
    "    n_bins = 100\n",
    "    for ik, k in enumerate(energies):\n",
    "        plt.hist(energies[k], density=True, bins=n_bins,  histtype='step', label=r\"$\\kappa_%d = %4.3f$\" % (ik, k), color=\"C%d\" % (ik+1))\n",
    "    plt.hist(all_energies, weights=w0, density=True, bins=n_bins,  histtype='step', \n",
    "             label=r\"$\\kappa = %4.3f$, WHAM w0\" % kappa_ref, color=\"C1\", ls='--')\n",
    "    plt.hist(all_energies, weights=w_new, density=True, bins=n_bins,  histtype='step', \n",
    "             label=r\"$\\kappa = %4.3f$, rew. from WHAM w0\" % k, color=\"C%d\" % (ik+1), ls='--')\n",
    "    plt.yscale('log')\n",
    "    plt.ylim(bottom=1e-5)\n",
    "    plt.xlabel(\"Energy\")\n",
    "    plt.ylabel(\"pdf\")\n",
    "    plt.legend(fontsize=14, loc='center right', bbox_to_anchor=(2,0.5))\n",
    "    plt.show()\n",
    "    ####################\n",
    "    # optimize BioFF posterior\n",
    "    kappa_init = kappa_new\n",
    "    res = scipy.optimize.minimize(bioff.objective_function, kappa_init, \n",
    "                                  args= (w0, all_phi_mats, yTilde, YTilde, all_u_refs, theta), \n",
    "                                  method=\"Nelder-Mead\")\n",
    "    kappa_new = res['x'][0]\n",
    "    print(\"kappa_new = %8.4f\" % kappa_new)\n",
    "    kappas_optimization.append(kappa_new)\n",
    "    # calculate predicted energy distribution by reweighting\n",
    "    all_u = pm.von_Mises_energy(all_phi_mats, kappa_new)\n",
    "    w_new = bioff.reweighting(all_u, all_u_refs, w0)\n",
    "    # check for convergence\n",
    "    if bioff.convergence(kappa_old, kappa_new):\n",
    "        n_converged+=1\n",
    "    if n_converged==2:\n",
    "        is_converged=True\n",
    "    kappa_old = kappa_new"
   ]
  },
  {
   "cell_type": "markdown",
   "id": "822a37a4-a41a-4701-bb1e-8beee1fd8804",
   "metadata": {},
   "source": [
    "# Plotting"
   ]
  },
  {
   "cell_type": "markdown",
   "id": "130258ab-a60f-47c6-a351-db653d311956",
   "metadata": {},
   "source": [
    "## Convergence plots"
   ]
  },
  {
   "cell_type": "code",
   "execution_count": null,
   "id": "6b68c57b-0c38-41de-baed-8e218d676bfc",
   "metadata": {},
   "outputs": [],
   "source": [
    "n_bins = 40\n",
    "for i_iter, k in enumerate(energies):\n",
    "    if i_iter == 0:\n",
    "        tmp = r\"$\\kappa_%d \\approx %.1f$\" % (i_iter, k)\n",
    "    else:\n",
    "        tmp = r\"$\\kappa_%d = %.1f$\" % (i_iter, k)\n",
    "    plt.hist(energies[k], density=True, bins=n_bins,  histtype='step', label=tmp, lw=2)\n",
    "plt.xlabel(\"Energy\")\n",
    "plt.ylabel(\"Probability distribution\")\n",
    "plt.title(r\"$\\theta = %3.1f$\" % theta, size=16)\n",
    "plt.hist(energies_exp[kappa_exp], ls='--', color='k', density=True, bins=n_bins,  histtype='step', label=r\"$\\kappa_\\mathrm{exp}=%4.1f$\" % (kappa_exp), lw=2)\n",
    "#plt.legend(fontsize=14, loc='upper center', bbox_to_anchor=(0.5,1.8), ncol=2)\n",
    "plt.legend(fontsize=14, loc='center right', bbox_to_anchor=(1.4,.5), ncol=1, handlelength=1)\n",
    "q_save_fig=True\n",
    "if q_save_fig:\n",
    "    oname=\"energy_pdf_simulations_theta%3.2f\"  % (theta)\n",
    "    print(oname)\n",
    "    for fmt in ['.pdf', '.eps']:\n",
    "        plt.savefig(img_path+img_sub+oname+fmt, dpi=600,  bbox_inches='tight')\n",
    "q_save_fig=False"
   ]
  },
  {
   "cell_type": "code",
   "execution_count": null,
   "id": "81394ed1-6672-4e74-a792-0159c5b6efbd",
   "metadata": {},
   "outputs": [],
   "source": [
    "plt.plot(range(0,n_iterations+2), kappas_optimization, '.-', lw=2, c='k')\n",
    "plt.axhline(kappa_exp, c='k', ls='--', label=\"Experiment\", lw=2)\n",
    "plt.axhline(kappa_ref,  label=\"Reference\", lw=2)\n",
    "plt.xlabel(\"Iteration $i$\")\n",
    "plt.ylabel(\"Force field parameter $\\kappa_i$\")\n",
    "plt.gca().set_xticks(range(0, n_iterations+3))\n",
    "plt.grid()\n",
    "plt.title(r\"$\\theta = %3.1f$\" % theta, size=16)\n",
    "plt.ylim(kappa_exp-1, kappa_ref+2)\n",
    "if kappa_exp==5:\n",
    "    plt.text(0.02,0.07,\"Experiment\", fontsize=16, transform=plt.gca().transAxes)\n",
    "    plt.text(0.7,0.91, \"Reference\", fontsize=16, transform=plt.gca().transAxes, color=\"C0\")\n",
    "elif kappa_exp==10:\n",
    "    plt.text(0.03,0.1,\"Experiment\", fontsize=16, transform=plt.gca().transAxes)\n",
    "    plt.text(0.7,0.87, \"Reference\", fontsize=16, transform=plt.gca().transAxes, color=\"C0\")\n",
    "\n",
    "q_save_fig=True\n",
    "if q_save_fig:\n",
    "    oname=\"kappas_theta%3.2f\"  % (theta)\n",
    "    print(oname)\n",
    "    for fmt in ['.pdf', '.eps']:\n",
    "        plt.savefig(img_path+img_sub+oname+fmt, dpi=600,  bbox_inches='tight')\n",
    "q_save_fig=False"
   ]
  },
  {
   "cell_type": "markdown",
   "id": "cb892937-40c3-446b-ac9c-abeeb63e6cd0",
   "metadata": {},
   "source": [
    "## Perform BioEn for pooled simulations for comparison"
   ]
  },
  {
   "cell_type": "code",
   "execution_count": null,
   "id": "4c9fc273-7ad6-44da-a30d-e590b05ef31a",
   "metadata": {},
   "outputs": [],
   "source": [
    "cfg = bioen.optimize.minimize.Parameters('lbfgs')"
   ]
  },
  {
   "cell_type": "code",
   "execution_count": null,
   "id": "0eeed85e-a466-4b58-b3ae-dff6184abb23",
   "metadata": {},
   "outputs": [],
   "source": [
    "ev = 1 # set to on if you want to use all samples in the ensmble\n",
    "\n",
    "# Initializing input for BioEn\n",
    "N = len(y[::ev])\n",
    "tmp = w0[::ev]\n",
    "w0_WHAM=(np.matrix(tmp/tmp.sum())).T\n",
    "print(w0_WHAM.shape)\n",
    "G0 = optimize.log_weights.getGs(w0_WHAM)\n",
    "y_bioen=np.matrix(y[::ev])\n",
    "\n",
    "\n",
    "yTilde_bioen=y_bioen/exp['stderr']\n",
    "print(yTilde_bioen.shape)\n",
    "print(y_bioen.shape)\n",
    "print(Y.shape)\n",
    "GInit=G0.copy()\n",
    "Y = np.matrix(exp['mean'])\n",
    "YTilde = Y/exp['stderr']\n",
    "print(Y)"
   ]
  },
  {
   "cell_type": "code",
   "execution_count": null,
   "id": "8c7ca3c6-5f6b-415c-8336-cb54dd54e989",
   "metadata": {},
   "outputs": [],
   "source": [
    "wopt, yopt, gopt, fmin_init, fmin_final = optimize.log_weights.find_optimum(GInit, G0, y_bioen, yTilde_bioen, YTilde, theta, cfg)\n"
   ]
  },
  {
   "cell_type": "code",
   "execution_count": null,
   "id": "2aa9289a-e2dc-4e5d-b472-daabc1670cd2",
   "metadata": {},
   "outputs": [],
   "source": [
    "SKL_bioen= bioff.SKL(np.asarray(wopt.T[0]),w0)\n",
    "print( \"BioEn SKL = %5.3f\" % SKL_bioen)"
   ]
  },
  {
   "cell_type": "code",
   "execution_count": null,
   "id": "3fae601d-0966-4ffe-bc93-4c3cf46808f8",
   "metadata": {},
   "outputs": [],
   "source": [
    "w=np.asarray(wopt.T[0])\n",
    "x =np.asarray(y_bioen)[0]\n",
    "mean = (w*x).sum()\n",
    "print(mean, Y)"
   ]
  },
  {
   "cell_type": "markdown",
   "id": "3618f043-9134-4956-8d31-e0f9aa30d13d",
   "metadata": {},
   "source": [
    "## Plot distance distributions"
   ]
  },
  {
   "cell_type": "code",
   "execution_count": null,
   "id": "6498a243-7389-4c0b-a6f5-91f6c95ca8f5",
   "metadata": {},
   "outputs": [],
   "source": [
    "SKL_bioff= bioff.SKL(w_new, w0)\n",
    "print( \"BioFF SKL = %5.3f\" % SKL_bioff)"
   ]
  },
  {
   "cell_type": "code",
   "execution_count": null,
   "id": "65e9997a-91b8-4ff3-a06e-016dcda01639",
   "metadata": {},
   "outputs": [],
   "source": [
    "n_bins=40\n",
    "lw=2\n",
    "\n",
    "xlabels={}\n",
    "xlabels['label'] = \"Label distance\"\n",
    "xlabels['e2e'] = \"End-to-end distance\"\n",
    "for key in ['label', 'e2e']:\n",
    "    all_label_dists = pm.hstack_dict(dists[key], kappa_sims)\n",
    "    bioen_mean = (all_label_dists*w).sum()\n",
    "    bioff_mean = (all_label_dists*w_new).sum()\n",
    "    plt.title(r\"$\\theta = %3.1f$\" % theta, size=16)\n",
    "    plt.hist(all_label_dists, weights = w, bins=n_bins, density=True, histtype='step', label=\"BioEn ($S_\\mathrm{KL}=%3.1f$)\" % SKL_bioen, lw=lw)\n",
    "    plt.axvline(bioen_mean, color='C0', lw=lw)\n",
    "    plt.hist(all_label_dists, weights = w_new, bins=n_bins, density=True, histtype='step', label=\"BioFF ($S_\\mathrm{KL}=%3.1f$)\" % SKL_bioff, lw=lw)\n",
    "    plt.axvline(bioff_mean, color='C1', lw=lw)\n",
    "    plt.hist(dists[key][kappa_ref],  bins=n_bins, histtype='step', density=True, label=\"Initial simulation\", lw=lw)\n",
    "\n",
    "    plt.hist(dists_exp[key][kappa_exp],  ls='--', color='k', bins=n_bins, density=True, histtype='step', label=\"Experiment\", lw=lw)\n",
    "    plt.axvline(dists_stats_exp[key][kappa_exp]['mean'], ls='--', color='k', lw=lw)\n",
    "\n",
    "    plt.xlabel(xlabels[key])\n",
    "    plt.ylabel(\"Proability distribution\")\n",
    "    plt.legend(fontsize=14, loc='upper left', ncol=1, frameon=False)\n",
    "    q_save_fig=True\n",
    "    if q_save_fig:\n",
    "        oname=\"%s_pdf_theta%3.2f\"  % (key, theta)\n",
    "        print(oname)\n",
    "        for fmt in ['.pdf', '.eps']:\n",
    "            plt.savefig(img_path+img_sub+oname+fmt, dpi=600,  bbox_inches='tight')\n",
    "    q_save_fig=False\n",
    "    plt.show()"
   ]
  }
 ],
 "metadata": {
  "kernelspec": {
   "display_name": "Python 3 (ipykernel)",
   "language": "python",
   "name": "python3"
  },
  "language_info": {
   "codemirror_mode": {
    "name": "ipython",
    "version": 3
   },
   "file_extension": ".py",
   "mimetype": "text/x-python",
   "name": "python",
   "nbconvert_exporter": "python",
   "pygments_lexer": "ipython3",
   "version": "3.8.12"
  },
  "toc-autonumbering": true
 },
 "nbformat": 4,
 "nbformat_minor": 5
}
