{
 "cells": [
  {
   "cell_type": "markdown",
   "id": "57f738d9-af2f-4955-89f2-c995168930da",
   "metadata": {},
   "source": [
    "Copyright (c) 2021 Juergen Koefinger, Max Planck Institute of Biophysics, Frankfurt am Main, Germany"
   ]
  },
  {
   "cell_type": "code",
   "execution_count": null,
   "id": "42bbf0f7-045f-41ad-9a27-da6c0e7ba785",
   "metadata": {},
   "outputs": [],
   "source": [
    "import numpy as np\n",
    "import matplotlib.pyplot as plt\n",
    "from numba import jit\n",
    "import scipy.stats\n",
    "import copy\n",
    "import pickle\n",
    "import polymer_model as pm\n",
    "from importlib import reload\n",
    "import matplotlib\n",
    "matplotlib.rc('xtick', labelsize=16) \n",
    "matplotlib.rc('ytick', labelsize=16) \n",
    "matplotlib.rc('axes', labelsize=16) "
   ]
  },
  {
   "cell_type": "code",
   "execution_count": null,
   "id": "19286983-7856-4f71-8527-2fa54498e283",
   "metadata": {},
   "outputs": [],
   "source": [
    "N=100 # number of beads\n",
    "sample_info={}\n",
    "N_configs = 10000 \n",
    "sample_info['n_run']=N_configs\n",
    "sample_info['n_sample']=-1"
   ]
  },
  {
   "cell_type": "code",
   "execution_count": null,
   "id": "cd753360-b9c6-494e-8e8f-38460cb20512",
   "metadata": {},
   "outputs": [],
   "source": [
    "#for kappa in \n",
    "kappas = [10, 20]\n",
    "q_out = False\n",
    "for kappa in kappas:\n",
    "\n",
    "    print(\"kappa =\", kappa)\n",
    "    configs_vonMises = pm.generate_vonMises_configs(N_configs, N, kappa, mu=0)\n",
    "    dists = pm.extract_pair_distances(configs_vonMises)\n",
    "    pm.dump_configs(configs_vonMises, N, kappa, 0, 0,  sample_info, opath=\"./data/\", pref=\"vonMises_\")\n",
    "    for config in configs_vonMises[:10]:\n",
    "        plt.title(r\"$\\kappa=%3.2f$\" % kappa, size=16)\n",
    "        pos = config['pos']\n",
    "        plt.plot(pos[:,0], pos[:,1], 'o-')\n",
    "        plt.gca().set_aspect(1)\n",
    "        plt.xlim(-N, N)\n",
    "        plt.ylim(-N,N)\n",
    "        plt.grid()\n",
    "        plt.show()"
   ]
  }
 ],
 "metadata": {
  "kernelspec": {
   "display_name": "Python 3",
   "language": "python",
   "name": "python3"
  },
  "language_info": {
   "codemirror_mode": {
    "name": "ipython",
    "version": 3
   },
   "file_extension": ".py",
   "mimetype": "text/x-python",
   "name": "python",
   "nbconvert_exporter": "python",
   "pygments_lexer": "ipython3",
   "version": "3.8.8"
  }
 },
 "nbformat": 4,
 "nbformat_minor": 5
}
